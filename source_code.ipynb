{
 "cells": [
  {
   "cell_type": "markdown",
   "metadata": {},
   "source": [
    "# Importing libraries and reading in file"
   ]
  },
  {
   "cell_type": "code",
   "execution_count": 6,
   "metadata": {},
   "outputs": [
    {
     "data": {
      "text/html": [
       "<div>\n",
       "<style scoped>\n",
       "    .dataframe tbody tr th:only-of-type {\n",
       "        vertical-align: middle;\n",
       "    }\n",
       "\n",
       "    .dataframe tbody tr th {\n",
       "        vertical-align: top;\n",
       "    }\n",
       "\n",
       "    .dataframe thead th {\n",
       "        text-align: right;\n",
       "    }\n",
       "</style>\n",
       "<table border=\"1\" class=\"dataframe\">\n",
       "  <thead>\n",
       "    <tr style=\"text-align: right;\">\n",
       "      <th></th>\n",
       "      <th>label</th>\n",
       "      <th>count</th>\n",
       "    </tr>\n",
       "  </thead>\n",
       "  <tbody>\n",
       "    <tr>\n",
       "      <th>0</th>\n",
       "      <td>1</td>\n",
       "      <td>3512</td>\n",
       "    </tr>\n",
       "    <tr>\n",
       "      <th>1</th>\n",
       "      <td>0</td>\n",
       "      <td>3493</td>\n",
       "    </tr>\n",
       "  </tbody>\n",
       "</table>\n",
       "</div>"
      ],
      "text/plain": [
       "   label  count\n",
       "0      1   3512\n",
       "1      0   3493"
      ]
     },
     "execution_count": 6,
     "metadata": {},
     "output_type": "execute_result"
    }
   ],
   "source": [
    "from pyspark.ml.feature import Tokenizer, RegexTokenizer\n",
    "from pyspark.ml.classification import LinearSVC\n",
    "from pyspark.sql.functions import col, udf\n",
    "from pyspark.sql.types import IntegerType\n",
    "from pyspark.ml.feature import NGram,HashingTF, IDF\n",
    "from pyspark.ml.feature import StandardScaler\n",
    "from pyspark.sql.functions import lit\n",
    "from pyspark.mllib.feature import StandardScaler, StandardScalerModel\n",
    "from pyspark.mllib.linalg import Vectors\n",
    "from pyspark.mllib.util import MLUtils\n",
    "from pyspark.ml.classification import LogisticRegression, OneVsRest\n",
    "from pyspark.ml import Pipeline\n",
    "from pyspark.sql import Row\n",
    "from pyspark.ml.feature import RegexTokenizer, StopWordsRemover, CountVectorizer\n",
    "import matplotlib.pyplot as plt\n",
    "import numpy as np\n",
    "import pandas as pd\n",
    "from pyspark.ml.classification import RandomForestClassifier\n",
    "from pyspark.ml.evaluation import RegressionEvaluator\n",
    "from pyspark.ml.evaluation import BinaryClassificationEvaluator\n",
    "from pyspark.ml.evaluation import MulticlassClassificationEvaluator\n",
    "from pyspark.ml.tuning import ParamGridBuilder, CrossValidator\n",
    "from pyspark.ml.feature import StringIndexer\n",
    "from pyspark.ml.feature import Word2Vec\n",
    "from sklearn.metrics import confusion_matrix\n",
    "\n",
    "\n",
    "from pyspark import SparkContext\n",
    "\n",
    "if __name__ == \"__main__\":\n",
    "    spark = SparkSession\\\n",
    "        .builder\\\n",
    "        .appName(\"Detecting-Malicious-URL App\")\\\n",
    "        .getOrCreate()\n",
    "\n",
    "#Reading in the URL file and storing into dataframe\n",
    "data_df = spark.read.csv(path='processed_data/github_dataset.csv',\n",
    "                        sep=',',\n",
    "                        encoding='UTF-8',\n",
    "                        comment=None,\n",
    "                        header=True, \n",
    "                        inferSchema=True)\n",
    "\n",
    "#Uncomment the following two lines if kaggle datasets is used...and replace data_df variable above with raw_data\n",
    "#indexer = StringIndexer(inputCol=\"lable\", outputCol=\"label\")\n",
    "#data_df = indexer.fit(raw_data).transform(raw_data).select(\"url\", \"label\")\n",
    "\n",
    "#Check whether the dataset is balanced of unblanced\n",
    "data_df.groupby('label').count().toPandas()"
   ]
  },
  {
   "cell_type": "markdown",
   "metadata": {},
   "source": [
    "# Under Sample Unbalanced Datasets"
   ]
  },
  {
   "cell_type": "code",
   "execution_count": 7,
   "metadata": {},
   "outputs": [
    {
     "data": {
      "text/html": [
       "<div>\n",
       "<style scoped>\n",
       "    .dataframe tbody tr th:only-of-type {\n",
       "        vertical-align: middle;\n",
       "    }\n",
       "\n",
       "    .dataframe tbody tr th {\n",
       "        vertical-align: top;\n",
       "    }\n",
       "\n",
       "    .dataframe thead th {\n",
       "        text-align: right;\n",
       "    }\n",
       "</style>\n",
       "<table border=\"1\" class=\"dataframe\">\n",
       "  <thead>\n",
       "    <tr style=\"text-align: right;\">\n",
       "      <th></th>\n",
       "      <th>label</th>\n",
       "      <th>count</th>\n",
       "    </tr>\n",
       "  </thead>\n",
       "  <tbody>\n",
       "    <tr>\n",
       "      <th>0</th>\n",
       "      <td>1</td>\n",
       "      <td>3512</td>\n",
       "    </tr>\n",
       "    <tr>\n",
       "      <th>1</th>\n",
       "      <td>0</td>\n",
       "      <td>1709</td>\n",
       "    </tr>\n",
       "  </tbody>\n",
       "</table>\n",
       "</div>"
      ],
      "text/plain": [
       "   label  count\n",
       "0      1   3512\n",
       "1      0   1709"
      ]
     },
     "execution_count": 7,
     "metadata": {},
     "output_type": "execute_result"
    }
   ],
   "source": [
    "\n",
    "malicious = data_df.filter(\"label = 1\")\n",
    "bening = data_df.filter(\"label = 0\")\n",
    "\n",
    "#malicious.count()\n",
    "#bening.count()\n",
    "\n",
    "sampleRatio = malicious.count() / data_df.count()\n",
    "#print(\"sampleRatio: %g\" %sampleRatio)\n",
    "sample_bening = bening.sample(False, sampleRatio)\n",
    "\n",
    "sampled = malicious.unionAll(sample_bening)\n",
    "\n",
    "sampled.groupby('label').count().toPandas()\n",
    "\n"
   ]
  },
  {
   "cell_type": "markdown",
   "metadata": {},
   "source": [
    "# Data Ingestion and Vectorization"
   ]
  },
  {
   "cell_type": "code",
   "execution_count": 8,
   "metadata": {},
   "outputs": [
    {
     "name": "stdout",
     "output_type": "stream",
     "text": [
      "\n",
      "Training Dataset Count: 5603\n",
      "Test Dataset Count: 1402\n",
      "Total Dataset Count: 7005\n",
      "+--------------------+-----+--------------------+--------------------+--------------------+\n",
      "|                 url|label|               Words|            Filtered|            features|\n",
      "+--------------------+-----+--------------------+--------------------+--------------------+\n",
      "|http://shagali.co...|    1|[http, shagali, c...|[shagali, com, sh...|(720,[0,1,12,29,3...|\n",
      "|http://https-secu...|    1|[http, https, sec...|[security, esy, e...|(720,[2,10,47,72,...|\n",
      "|http://www.netfli...|    1|[http, www, netfl...|[netflix, notific...|(720,[0,414],[1.0...|\n",
      "|http://sec-verify...|    1|[http, sec, verif...|[sec, verifyfb, l...|(720,[2,10,47,116...|\n",
      "|http://recever007...|    1|[http, recever007...|[recever0076, esy...|(720,[2,10,47,116...|\n",
      "+--------------------+-----+--------------------+--------------------+--------------------+\n",
      "only showing top 5 rows\n",
      "\n"
     ]
    }
   ],
   "source": [
    "#Tokennize the TrainData - sparse the URL string into words\n",
    "regexTokenizer = RegexTokenizer(inputCol=\"url\", outputCol=\"Words\", pattern=\"\\\\W\")\n",
    "\n",
    "#determing components to be removed in the URL\n",
    "add_stopWords = [\"http\", \"https\", \"www\", \"ftp\"]\n",
    "\n",
    "#Removing the above stop words  from the tokenized data\n",
    "stopwordsRemover = StopWordsRemover(inputCol=regexTokenizer.getOutputCol(), outputCol=\"Filtered\").setStopWords(add_stopWords)\n",
    "\n",
    "#Convert the words to ngrams. Note: this is not used in production as it gives less results during model training\n",
    "ngram = NGram(n=3, inputCol=stopwordsRemover.getOutputCol(), outputCol=\"Ngrams\")\n",
    "\n",
    "#Word2Vec - Note: this is not used in production as it gives less results during model training\n",
    "word2Vec = Word2Vec(vectorSize=1000, minCount=5, inputCol=stopwordsRemover.getOutputCol(), outputCol=\"features\")\n",
    "\n",
    "#Hashing the data - Note: this is not used in production as it gives less results during model training\n",
    "hashingTF = HashingTF(inputCol=ngram.getOutputCol(), outputCol=\"rawFeatures\")\n",
    "\n",
    "#Note: this is not used in production as it gives less results during model training\n",
    "idf = IDF(inputCol=hashingTF.getOutputCol(), outputCol=\"features\") \n",
    "\n",
    "#CountVectorizer converts the the words into feature vectors - Thi is used as it gives better results\n",
    "countVectors = CountVectorizer(inputCol=stopwordsRemover.getOutputCol(), outputCol=\"features\", vocabSize=10000, minDF=5)\n",
    "\n",
    "#creating the pipepline of steps to be performed in order\n",
    "pipeline = Pipeline(stages=[regexTokenizer,stopwordsRemover, countVectors ])\n",
    "\n",
    "# Fit the pipeline to training documents.\n",
    "pipelineFit = pipeline.fit(data_df)\n",
    "\n",
    "#Transform the pipeline to dataset\n",
    "dataset = pipelineFit.transform(data_df)\n",
    "\n",
    "#randomly split the dataset to traning and testing 80%, 20% respectively\n",
    "(trainingData, testData) = dataset.randomSplit([0.8, 0.2], seed = 48)\n",
    "print(\"\\nTraining Dataset Count: \" + str(trainingData.count()))\n",
    "print(\"Test Dataset Count: \" + str(testData.count()))\n",
    "print(\"Total Dataset Count: \" + str(dataset.count()))\n",
    "\n",
    "dataset.show(5)"
   ]
  },
  {
   "cell_type": "code",
   "execution_count": 9,
   "metadata": {},
   "outputs": [
    {
     "data": {
      "text/html": [
       "<div>\n",
       "<style scoped>\n",
       "    .dataframe tbody tr th:only-of-type {\n",
       "        vertical-align: middle;\n",
       "    }\n",
       "\n",
       "    .dataframe tbody tr th {\n",
       "        vertical-align: top;\n",
       "    }\n",
       "\n",
       "    .dataframe thead th {\n",
       "        text-align: right;\n",
       "    }\n",
       "</style>\n",
       "<table border=\"1\" class=\"dataframe\">\n",
       "  <thead>\n",
       "    <tr style=\"text-align: right;\">\n",
       "      <th></th>\n",
       "      <th>label</th>\n",
       "      <th>count</th>\n",
       "    </tr>\n",
       "  </thead>\n",
       "  <tbody>\n",
       "    <tr>\n",
       "      <th>0</th>\n",
       "      <td>1</td>\n",
       "      <td>727</td>\n",
       "    </tr>\n",
       "    <tr>\n",
       "      <th>1</th>\n",
       "      <td>0</td>\n",
       "      <td>675</td>\n",
       "    </tr>\n",
       "  </tbody>\n",
       "</table>\n",
       "</div>"
      ],
      "text/plain": [
       "   label  count\n",
       "0      1    727\n",
       "1      0    675"
      ]
     },
     "execution_count": 9,
     "metadata": {},
     "output_type": "execute_result"
    }
   ],
   "source": [
    "testData.groupby('label').count().toPandas()"
   ]
  },
  {
   "cell_type": "markdown",
   "metadata": {},
   "source": [
    "# Logistic Regression"
   ]
  },
  {
   "cell_type": "code",
   "execution_count": 10,
   "metadata": {
    "scrolled": false
   },
   "outputs": [
    {
     "name": "stdout",
     "output_type": "stream",
     "text": [
      "\n",
      "Root Mean Squared Error (RMSE) on test data = 0.342017\n",
      "\n",
      "Accuracy on Test Data = 96.6851\n",
      "\n",
      "Average Accuracy on test for 1 run is: 96.6851\n",
      "Test: Area Under ROC: 0.9668510876763972\n",
      "Test: Area Under PR - precision-recall curve: 0.9760714525960857\n",
      "Precision 88.2342\n",
      "Recall 88.2342\n"
     ]
    },
    {
     "data": {
      "image/png": "[encoded data removed]",
      "text/plain": [
       "<matplotlib.figure.Figure at 0x7ff155498780>"
      ]
     },
     "metadata": {},
     "output_type": "display_data"
    },
    {
     "data": {
      "image/png": "[encoded data removed]",
      "text/plain": [
       "<matplotlib.figure.Figure at 0x7ff15549fa20>"
      ]
     },
     "metadata": {},
     "output_type": "display_data"
    },
    {
     "data": {
      "image/png": "[encoded data removed]",
      "text/plain": [
       "<matplotlib.figure.Figure at 0x7ff1509cc9b0>"
      ]
     },
     "metadata": {},
     "output_type": "display_data"
    },
    {
     "data": {
      "image/png": "[encoded data removed]",
      "text/plain": [
       "<matplotlib.figure.Figure at 0x7ff1509c7550>"
      ]
     },
     "metadata": {},
     "output_type": "display_data"
    },
    {
     "name": "stdout",
     "output_type": "stream",
     "text": [
      "areaUnderROC: 0.973689910845004\n",
      "+---+---------------+\n",
      "|FPR|            TPR|\n",
      "+---+---------------+\n",
      "|0.0|            0.0|\n",
      "|0.0|0.0093357271...|\n",
      "|0.0|0.0197486535...|\n",
      "|0.0|0.0301615798...|\n",
      "|0.0|0.0441651705...|\n",
      "|0.0|0.0574506283...|\n",
      "|0.0|0.0667863554...|\n",
      "|0.0|0.0779174147...|\n",
      "|0.0|0.0883303411...|\n",
      "|0.0|0.0991023339...|\n",
      "+---+---------------+\n",
      "only showing top 10 rows\n",
      "\n"
     ]
    },
    {
     "data": {
      "image/png": "[encoded data removed]",
      "text/plain": [
       "<matplotlib.figure.Figure at 0x7ff1508f5240>"
      ]
     },
     "metadata": {},
     "output_type": "display_data"
    },
    {
     "name": "stdout",
     "output_type": "stream",
     "text": [
      "+---------------+---------------+\n",
      "|      threshold|      F-Measure|\n",
      "+---------------+---------------+\n",
      "|0.9990718948...|0.0184987548...|\n",
      "|0.9845581703...|0.0387323943...|\n",
      "|0.9761741742...|0.0585569884...|\n",
      "|0.9665894645...|0.0845942228...|\n",
      "|0.9611210434...|0.1086587436...|\n",
      "|0.9531346988...|0.1252103668...|\n",
      "|0.9465330957...|0.1445702864...|\n",
      "|0.9420263569...|0.1623226657...|\n",
      "|0.9358316720...|0.1803332244...|\n",
      "|0.9304651130...|0.1985769728...|\n",
      "+---------------+---------------+\n",
      "only showing top 10 rows\n",
      "\n"
     ]
    },
    {
     "data": {
      "image/png": "[encoded data removed]",
      "text/plain": [
       "<matplotlib.figure.Figure at 0x7ff1509053c8>"
      ]
     },
     "metadata": {},
     "output_type": "display_data"
    }
   ],
   "source": [
    "#==============[ LOGISTIC REGRESSION ]=========================\n",
    "accuracy = 0.0\n",
    "average_accuracy = 0.0\n",
    "\n",
    "\n",
    "# Build logistic regresssion model\n",
    "for i in range(1,2):\n",
    "    # Fit the pipeline to training documents.\n",
    "    pipelineFit = pipeline.fit(data_df)\n",
    "\n",
    "    #Transform the pipeline to dataset\n",
    "    dataset = pipelineFit.transform(data_df)\n",
    "    \n",
    "    #randomly split the dataset to traning and testing 80%, 20% respectively\n",
    "    (trainingData, testData) = dataset.randomSplit([0.8, 0.2], seed = 48)\n",
    "    \n",
    "    lr = LogisticRegression(maxIter=10000, regParam=0.3, elasticNetParam=0, family = \"binomial\")\n",
    "    # Train model using logisitic regression\n",
    "    lrModel = lr.fit(trainingData)\n",
    "\n",
    "#Doing the prediction using test data\n",
    "#Label is not used in test data\n",
    "    predictions = lrModel.transform(testData)\n",
    "\n",
    "  #  predictions.select(\"url\", \"label\", \"prediction\").show(n=5, truncate = 100)\n",
    "# Select (prediction, true label) and compute test error\n",
    "    evaluator = RegressionEvaluator(\n",
    "        labelCol=\"label\", predictionCol=\"prediction\", metricName=\"rmse\")\n",
    "    rmse = evaluator.evaluate(predictions)\n",
    "    print(\"\\nRoot Mean Squared Error (RMSE) on test data = %g\" % rmse)\n",
    "\n",
    "    # Evaluate model\n",
    "    evaluator = BinaryClassificationEvaluator()\n",
    "    accuracy = evaluator.evaluate(predictions)\n",
    "    \n",
    "    average_accuracy = accuracy + average_accuracy\n",
    "\n",
    "    print(\"\\nAccuracy on Test Data = %g\" % (accuracy*100))\n",
    "    \n",
    "   # print(\"test accuracy with pipeline \" + accuracyScore(lrModel.transform(testData), \"label\", \"prediction\"))\n",
    "    #print(\"test recall for 1.0 is \" + recall(lrModel.transform(testData), \"label\", \"prediction\", 1))\n",
    "\n",
    "average_accuracy = average_accuracy/i    \n",
    "print(\"\\nAverage Accuracy on test for %i run is: %g\" % (i, (average_accuracy *100)))\n",
    "#evaluator = BinaryClassificationEvaluator(rawPredictionCol=\"rawPrediction\")\n",
    "print(\"Test: Area Under ROC: \" + str(evaluator.evaluate(predictions, {evaluator.metricName: \"areaUnderROC\"})))\n",
    "print(\"Test: Area Under PR - precision-recall curve: \" + str(evaluator.evaluate(predictions, {evaluator.metricName: \"areaUnderPR\"})))\n",
    "\n",
    "evaluator_p = MulticlassClassificationEvaluator(labelCol=\"label\", predictionCol=\"prediction\")\n",
    "precision = evaluator_p.evaluate(predictions,{evaluator.metricName: \"precision\"})\n",
    "print(\"Precision %g\" % (precision *100))\n",
    "\n",
    "evaluator_r = MulticlassClassificationEvaluator(labelCol=\"label\", predictionCol=\"prediction\")\n",
    "recall = evaluator_r.evaluate(predictions,{evaluator.metricName: \"recall\"})\n",
    "print(\"Recall %g\" % (recall*100))\n",
    "\n",
    "#===========================ploting\n",
    "\n",
    "#plt.clf()\n",
    "lr_predictions = lrModel.transform(testData)\n",
    "\n",
    "y_actu = lr_predictions.select(\"label\").toPandas()\n",
    "y_pred = lr_predictions.select(\"prediction\").toPandas()\n",
    "\n",
    "cm = confusion_matrix(y_actu, y_pred)\n",
    "\n",
    "plt.clf()\n",
    "plt.imshow(cm, interpolation='nearest', cmap=plt.cm.Wistia)\n",
    "classNames = ['Negative','Positive']\n",
    "plt.title('LOGISTIC REGRESSION')\n",
    "plt.ylabel('True label')\n",
    "plt.xlabel('Predicted label')\n",
    "tick_marks = np.arange(len(classNames))\n",
    "plt.xticks(tick_marks, classNames, rotation=45)\n",
    "plt.yticks(tick_marks, classNames)\n",
    "\n",
    "s = [['TN','FP'], ['FN', 'TP']]\n",
    "for i in range(2):\n",
    "    for j in range(2):\n",
    "        plt.text(j,i, str(s[i][j])+\" = \"+str(cm[i][j]))\n",
    "plt.show()\n",
    "\n",
    "#===============================================================\n",
    "\n",
    "beta = np.sort(lrModel.coefficients)\n",
    "plt.plot(beta)\n",
    "plt.ylabel('Beta Coefficients')\n",
    "plt.show()\n",
    "\n",
    "# Extract the summary from the returned LogisticRegressionModel instance trained\n",
    "trainingSummary = lrModel.summary\n",
    "\n",
    "#Obtain the objective per iteration\n",
    "objectiveHistory = trainingSummary.objectiveHistory\n",
    "plt.plot(objectiveHistory)\n",
    "plt.ylabel('Objective Function')\n",
    "plt.xlabel('Iteration')\n",
    "plt.show()\n",
    "\n",
    "pr = trainingSummary.pr.toPandas()\n",
    "plt.plot(pr['recall'],pr['precision'])\n",
    "plt.ylabel('Precision')\n",
    "plt.xlabel('Recall')\n",
    "plt.show()\n",
    "\n",
    "#Obtain the receiver-operating characteristic as a dataframe and areaUnderROC.\n",
    "print(\"areaUnderROC: \" + str(trainingSummary.areaUnderROC))\n",
    "\n",
    "trainingSummary.roc.show(n=10, truncate=15)\n",
    "roc = trainingSummary.roc.toPandas()\n",
    "plt.plot(roc['FPR'],roc['TPR'])\n",
    "plt.ylabel('False Positive Rate')\n",
    "plt.xlabel('True Positive Rate')\n",
    "plt.title('ROC Curve')\n",
    "plt.show()\n",
    "\n",
    "#Set the model threshold to maximize F-Measure\n",
    "trainingSummary.fMeasureByThreshold.show(n=10, truncate = 15)\n",
    "f = trainingSummary.fMeasureByThreshold.toPandas()\n",
    "plt.plot(f['threshold'],f['F-Measure'])\n",
    "plt.ylabel('F-Measure')\n",
    "plt.xlabel('Threshold')\n",
    "plt.show()\n",
    "\n",
    "\n",
    "\n",
    "\n",
    "#predictions.filter(predictions['prediction'] == 0) \\\n",
    "#    .select(\"url\", \"label\",\"prediction\") \\\n",
    "#    .orderBy(\"probability\", ascending=False) \\\n",
    "#    .show(n = 10, truncate = 80)\n",
    "#Precision measures the percentage of URLs flagged as malicious that were correctly classified\n",
    "#Recall measures the percentage of actual Malicious URLs that were correctly classified"
   ]
  },
  {
   "cell_type": "markdown",
   "metadata": {},
   "source": [
    "# Cross Validation for Logistic Regression"
   ]
  },
  {
   "cell_type": "code",
   "execution_count": 11,
   "metadata": {},
   "outputs": [
    {
     "name": "stdout",
     "output_type": "stream",
     "text": [
      "Test: Area Under ROC: 0.9665739467114982\n",
      "Precision 87.1316\n",
      "Recall 87.1316\n"
     ]
    },
    {
     "data": {
      "image/png": "[encoded data removed]",
      "text/plain": [
       "<matplotlib.figure.Figure at 0x7ff150889b00>"
      ]
     },
     "metadata": {},
     "output_type": "display_data"
    }
   ],
   "source": [
    "#==============[ Cross Validation for Logistic Regression ]=====================\n",
    "# Creating ParamGrid for Cross Validation\n",
    "paramGrid = (ParamGridBuilder()\n",
    "             .addGrid(lr.regParam, [0.1, 0.3, 0.5]) # regularization parameter\n",
    "             .addGrid(lr.elasticNetParam, [0.0, 0.1, 0.2]) # Elastic Net Parameter (Ridge = 0)\n",
    "#            .addGrid(model.maxIter, [10, 20, 50]) #Number of iterations\n",
    "#            .addGrid(idf.numFeatures, [10, 100, 1000]) # Number of features\n",
    "             .build())\n",
    "\n",
    "# Create 10-fold CrossValidator\n",
    "cv = CrossValidator(estimator=lr, \\\n",
    "                    estimatorParamMaps=paramGrid, \\\n",
    "                    evaluator=evaluator, \\\n",
    "                    numFolds=5)\n",
    "\n",
    "# Run cross validations\n",
    "cvModel = cv.fit(trainingData)\n",
    "# this will likely take a fair amount of time because of the amount of models that we're creating and testing\n",
    "\n",
    "# Use test set here so we can measure the accuracy of our model on new data\n",
    "predictions = cvModel.transform(testData)\n",
    "\n",
    "# cvModel uses the best model found from the Cross Validation\n",
    "# Evaluate best model\n",
    "print(\"Test: Area Under ROC: \" + str(evaluator.evaluate(predictions, {evaluator.metricName: \"areaUnderROC\"})))\n",
    "\n",
    "evaluator_p = MulticlassClassificationEvaluator(labelCol=\"label\", predictionCol=\"prediction\")\n",
    "precision = evaluator_p.evaluate(predictions,{evaluator.metricName: \"precision\"})\n",
    "print(\"Precision %g\" % (precision *100))\n",
    "\n",
    "evaluator_r = MulticlassClassificationEvaluator(labelCol=\"label\", predictionCol=\"prediction\")\n",
    "recall = evaluator_r.evaluate(predictions,{evaluator.metricName: \"recall\"})\n",
    "print(\"Recall %g\" % (recall*100))\n",
    "\n",
    "cv_predictions = cvModel.transform(testData)\n",
    "\n",
    "y_actu = cv_predictions.select(\"label\").toPandas()\n",
    "y_pred = cv_predictions.select(\"prediction\").toPandas()\n",
    "\n",
    "cm = confusion_matrix(y_actu, y_pred)\n",
    "\n",
    "plt.clf()\n",
    "plt.imshow(cm, interpolation='nearest', cmap=plt.cm.Wistia)\n",
    "classNames = ['Negative','Positive']\n",
    "plt.title('Cross Validation for Logistic Regression')\n",
    "plt.ylabel('True label')\n",
    "plt.xlabel('Predicted label')\n",
    "tick_marks = np.arange(len(classNames))\n",
    "plt.xticks(tick_marks, classNames, rotation=45)\n",
    "plt.yticks(tick_marks, classNames)\n",
    "\n",
    "s = [['TN','FP'], ['FN', 'TP']]\n",
    "for i in range(2):\n",
    "    for j in range(2):\n",
    "        plt.text(j,i, str(s[i][j])+\" = \"+str(cm[i][j]))\n",
    "plt.show()\n",
    "\n"
   ]
  },
  {
   "cell_type": "markdown",
   "metadata": {},
   "source": [
    "# Linear Support Vector Machine"
   ]
  },
  {
   "cell_type": "code",
   "execution_count": 12,
   "metadata": {},
   "outputs": [
    {
     "name": "stdout",
     "output_type": "stream",
     "text": [
      "Root Mean Squared Error (RMSE) on test data = 0.348813\n",
      "\n",
      "Accuracy on Test Data = 95.3774\n",
      "Precision 87.7588\n",
      "Recall 87.7588\n"
     ]
    },
    {
     "data": {
      "image/png": "[encoded data removed]",
      "text/plain": [
       "<matplotlib.figure.Figure at 0x7ff150889a58>"
      ]
     },
     "metadata": {},
     "output_type": "display_data"
    }
   ],
   "source": [
    "#==============[ Linear Support Vector Machine ]=====================\n",
    "\n",
    "for i in range(1, 2):\n",
    "    \n",
    "     # Fit the pipeline to training documents.\n",
    "    pipelineFit = pipeline.fit(data_df)\n",
    "\n",
    "    #Transform the pipeline to dataset\n",
    "    dataset = pipelineFit.transform(data_df)\n",
    "    \n",
    "    #randomly split the dataset to traning and testing 80%, 20% respectively\n",
    "    (trainingData, testData) = dataset.randomSplit([0.8, 0.2], seed = 100)\n",
    "\n",
    "    lsvc = LinearSVC(maxIter=10, regParam=0.3)\n",
    "\n",
    "    # Fit the model\n",
    "    lsvcModel = lsvc.fit(trainingData)\n",
    "\n",
    "    predictions = lsvcModel.transform(testData)\n",
    "\n",
    "    #predictions.select(\"url\", \"label\", \"prediction\").show(n=5, truncate = 100)\n",
    "\n",
    "    # Select (prediction, true label) and compute test error\n",
    "    evaluator = RegressionEvaluator(\n",
    "        labelCol=\"label\", predictionCol=\"prediction\", metricName=\"rmse\")\n",
    "    rmse = evaluator.evaluate(predictions)\n",
    "    print(\"Root Mean Squared Error (RMSE) on test data = %g\" % rmse)\n",
    "\n",
    "    # Evaluate model\n",
    "    evaluator = BinaryClassificationEvaluator()\n",
    "    accuracy = evaluator.evaluate(predictions)\n",
    "\n",
    "    print(\"\\nAccuracy on Test Data = %g\" % (accuracy*100))\n",
    "    evaluator_p = MulticlassClassificationEvaluator(labelCol=\"label\", predictionCol=\"prediction\")\n",
    "    precision = evaluator_p.evaluate(predictions,{evaluator.metricName: \"precision\"})\n",
    "    print(\"Precision %g\" % (precision *100))\n",
    "\n",
    "    evaluator_r = MulticlassClassificationEvaluator(labelCol=\"label\", predictionCol=\"prediction\")\n",
    "    recall = evaluator_r.evaluate(predictions,{evaluator.metricName: \"recall\"})\n",
    "    print(\"Recall %g\" % (recall*100))\n",
    "    \n",
    "    #==================[ Confusing Matrix Calculation and Plotting ]\n",
    "    lsvm_predictions = lsvcModel.transform(testData)\n",
    "\n",
    "\n",
    "    y_actu = lsvm_predictions.select(\"label\").toPandas()\n",
    "    y_pred = lsvm_predictions.select(\"prediction\").toPandas()\n",
    "\n",
    "    cm = confusion_matrix(y_actu, y_pred)\n",
    "\n",
    "    plt.clf()\n",
    "    plt.imshow(cm, interpolation='nearest', cmap=plt.cm.Wistia)\n",
    "    classNames = ['Negative','Positive']\n",
    "    plt.title('Linear Support Vector Machine')\n",
    "    plt.ylabel('True label')\n",
    "    plt.xlabel('Predicted label')\n",
    "    tick_marks = np.arange(len(classNames))\n",
    "    plt.xticks(tick_marks, classNames, rotation=45)\n",
    "    plt.yticks(tick_marks, classNames)\n",
    "\n",
    "    s = [['TN','FP'], ['FN', 'TP']]\n",
    "    for i in range(2):\n",
    "        for j in range(2):\n",
    "            plt.text(j,i, str(s[i][j])+\" = \"+str(cm[i][j]))\n",
    "    plt.show()\n"
   ]
  },
  {
   "cell_type": "markdown",
   "metadata": {},
   "source": [
    "# One-vs-Rest Classifier ( a.k.a One-vs-All )"
   ]
  },
  {
   "cell_type": "code",
   "execution_count": 13,
   "metadata": {},
   "outputs": [
    {
     "name": "stdout",
     "output_type": "stream",
     "text": [
      "Test Error = 0.0770338\n",
      "\n",
      "Accuracy on Test Data = 92.2966\n",
      "Accuracy = 92.2966\n",
      "f1 = 92.2904\n",
      "weightedPrecision = 92.5146\n",
      "weightedRecall = 92.2966\n",
      "Recall 92.2904\n",
      "Precision 92.2904\n"
     ]
    },
    {
     "data": {
      "image/png": "[encoded data removed]",
      "text/plain": [
       "<matplotlib.figure.Figure at 0x7ff1508e5588>"
      ]
     },
     "metadata": {},
     "output_type": "display_data"
    }
   ],
   "source": [
    "#==============[ One-vs-Rest classifier (a.k.a. One-vs-All ]=====================\n",
    "\n",
    "for i in range(1, 2):\n",
    "    \n",
    "     # Fit the pipeline to training documents.\n",
    "    pipelineFit = pipeline.fit(data_df)\n",
    "\n",
    "    #Transform the pipeline to dataset\n",
    "    dataset = pipelineFit.transform(data_df)\n",
    "    \n",
    "    #randomly split the dataset to traning and testing 80%, 20% respectively\n",
    "    (trainingData, testData) = dataset.randomSplit([0.8, 0.2], seed = 100)\n",
    "\n",
    "    # instantiate the base classifier.\n",
    "    lr = LogisticRegression(maxIter=10, tol=1E-6, fitIntercept=True)\n",
    "\n",
    "    # instantiate the One Vs Rest Classifier.\n",
    "    ovr = OneVsRest(classifier=lr)\n",
    "\n",
    "    # train the multiclass model.\n",
    "    ovrModel = ovr.fit(trainingData)\n",
    "\n",
    "    # score the model on test data.\n",
    "    predictions = ovrModel.transform(testData)\n",
    "\n",
    "    # obtain evaluator.\n",
    "    evaluator = MulticlassClassificationEvaluator(metricName=\"accuracy\")\n",
    "\n",
    " #   rec = MulticlassClassificationEvaluator(metricName=\"weightedPrecision\")\n",
    " \n",
    "  #  predictions.select(\"url\", \"label\", \"prediction\").show(n=5, truncate = 100)\n",
    "\n",
    "\n",
    "    # compute the classification error on test data.\n",
    "    accuracy = evaluator.evaluate(predictions)\n",
    "    print(\"Test Error = %g\" % (1.0 - accuracy))\n",
    "    print(\"\\nAccuracy on Test Data = %g\" % (accuracy*100))\n",
    "    \n",
    "    evaluator = MulticlassClassificationEvaluator(predictionCol=\"prediction\", metricName=\"accuracy\")\n",
    "    accuracy = evaluator.evaluate(predictions)\n",
    "    print(\"Accuracy = %g\" % (accuracy*100))\n",
    "\n",
    "    evaluatorf1 = MulticlassClassificationEvaluator( predictionCol=\"prediction\", metricName=\"f1\")\n",
    "    f1 = evaluatorf1.evaluate(predictions)\n",
    "    print(\"f1 = %g\" % (f1*100))\n",
    " \n",
    "    evaluatorwp = MulticlassClassificationEvaluator(predictionCol=\"prediction\", metricName=\"weightedPrecision\")\n",
    "    wp = evaluatorwp.evaluate(predictions)\n",
    "    print(\"weightedPrecision = %g\" % (wp*100))\n",
    " \n",
    "    evaluatorwr = MulticlassClassificationEvaluator( predictionCol=\"prediction\", metricName=\"weightedRecall\")\n",
    "    wr = evaluatorwr.evaluate(predictions)\n",
    "    print(\"weightedRecall = %g\" % (wr*100))\n",
    "    \n",
    "    evaluator_r = MulticlassClassificationEvaluator(labelCol=\"label\", predictionCol=\"prediction\")\n",
    "    recall = evaluator_r.evaluate(predictions,{evaluator.metricName: \"recall\"})\n",
    "    print(\"Recall %g\" % (recall*100))\n",
    "\n",
    "    evaluator_p = MulticlassClassificationEvaluator(labelCol=\"label\", predictionCol=\"prediction\")\n",
    "    precision = evaluator_p.evaluate(predictions,{evaluator.metricName: \"precision\"})\n",
    "    print(\"Precision %g\" % (precision *100))\n",
    "    \n",
    "    \n",
    "    ovr_predictions = ovrModel.transform(testData)\n",
    "\n",
    "\n",
    "    y_actu = ovr_predictions.select(\"label\").toPandas()\n",
    "    y_pred = ovr_predictions.select(\"prediction\").toPandas()\n",
    "\n",
    "    cm = confusion_matrix(y_actu, y_pred)\n",
    "\n",
    "    plt.clf()\n",
    "    plt.imshow(cm, interpolation='nearest', cmap=plt.cm.Wistia)\n",
    "    classNames = ['Negative','Positive']\n",
    "    #plt.title('Malicious of Benign- Test Data')\n",
    "    plt.ylabel('True label')\n",
    "    plt.xlabel('Predicted label')\n",
    "    tick_marks = np.arange(len(classNames))\n",
    "    plt.xticks(tick_marks, classNames, rotation=45)\n",
    "    plt.yticks(tick_marks, classNames)\n",
    "\n",
    "    s = [['TN','FP'], ['FN', 'TP']]\n",
    "    for i in range(2):\n",
    "        for j in range(2):\n",
    "            plt.text(j,i, str(s[i][j])+\" = \"+str(cm[i][j]))\n",
    "    plt.show()"
   ]
  },
  {
   "cell_type": "code",
   "execution_count": 14,
   "metadata": {},
   "outputs": [
    {
     "name": "stdout",
     "output_type": "stream",
     "text": [
      "weightedFalsePositiveRate 92.2904\n"
     ]
    }
   ],
   "source": [
    "evaluator_p = MulticlassClassificationEvaluator(labelCol=\"label\", predictionCol=\"prediction\")\n",
    "x = evaluator_p.evaluate(predictions,{evaluator.metricName: \"weightedFalsePositiveRate\"})\n",
    "print(\"weightedFalsePositiveRate %g\" % (x *100))"
   ]
  },
  {
   "cell_type": "code",
   "execution_count": 15,
   "metadata": {},
   "outputs": [],
   "source": [
    "l = predictions.select(\"label\", \"prediction\")\n",
    "\n",
    "a = predictions.select(\"label\")\n",
    "b = predictions.select(\"prediction\")\n"
   ]
  },
  {
   "cell_type": "code",
   "execution_count": 16,
   "metadata": {},
   "outputs": [
    {
     "data": {
      "text/plain": [
       "array([[657,  29],\n",
       "       [ 78, 625]])"
      ]
     },
     "execution_count": 16,
     "metadata": {},
     "output_type": "execute_result"
    }
   ],
   "source": [
    "from sklearn.metrics import confusion_matrix\n",
    "y_actu = predictions.select(\"label\").toPandas()\n",
    "y_pred = predictions.select(\"prediction\").toPandas()\n",
    "\n",
    "confusion_matrix(y_actu, y_pred)"
   ]
  },
  {
   "cell_type": "code",
   "execution_count": 17,
   "metadata": {},
   "outputs": [
    {
     "data": {
      "text/plain": [
       "<matplotlib.figure.Figure at 0x7ff150905cf8>"
      ]
     },
     "metadata": {},
     "output_type": "display_data"
    }
   ],
   "source": [
    " plt.savefig(\"sa\")"
   ]
  },
  {
   "cell_type": "code",
   "execution_count": null,
   "metadata": {},
   "outputs": [],
   "source": []
  }
 ],
 "metadata": {
  "kernelspec": {
   "display_name": "Python 3",
   "language": "python",
   "name": "python3"
  },
  "language_info": {
   "codemirror_mode": {
    "name": "ipython",
    "version": 3
   },
   "file_extension": ".py",
   "mimetype": "text/x-python",
   "name": "python",
   "nbconvert_exporter": "python",
   "pygments_lexer": "ipython3",
   "version": "3.6.4"
  }
 },
 "nbformat": 4,
 "nbformat_minor": 2
}
