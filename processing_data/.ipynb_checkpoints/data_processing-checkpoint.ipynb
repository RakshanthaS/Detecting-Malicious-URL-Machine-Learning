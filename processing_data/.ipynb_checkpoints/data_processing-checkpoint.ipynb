{
 "cells": [
  {
   "cell_type": "code",
   "execution_count": 3,
   "metadata": {},
   "outputs": [],
   "source": [
    "#read in the phishing URL datasets\n",
    "raw_data = spark.read.csv(path='phishing_url.csv',\n",
    "                        sep=',',\n",
    "                        encoding='UTF-8',\n",
    "                        comment=None,\n",
    "                        header=True, \n",
    "                        inferSchema=True)"
   ]
  },
  {
   "cell_type": "code",
   "execution_count": 3,
   "metadata": {},
   "outputs": [],
   "source": [
    "pshis = raw_data.select(\"url\")"
   ]
  },
  {
   "cell_type": "code",
   "execution_count": 4,
   "metadata": {},
   "outputs": [
    {
     "name": "stdout",
     "output_type": "stream",
     "text": [
      "+--------------------+\n",
      "|                 url|\n",
      "+--------------------+\n",
      "|http://mail.super...|\n",
      "|http://fyrlois.co...|\n",
      "|https://daostack-...|\n",
      "|http://fjffn-nfnf...|\n",
      "|http://dnccnnfncn...|\n",
      "|http://inbound-al...|\n",
      "|http://superprinc...|\n",
      "|http://cadastrode...|\n",
      "|https://dinaloupi...|\n",
      "|https://cityhebdo.fr|\n",
      "|https://www.cemto...|\n",
      "|http://efgqef.igg...|\n",
      "|https://pyapay.co...|\n",
      "|https://meccamedi...|\n",
      "|https://cadastram...|\n",
      "|http://trycoba.uk...|\n",
      "|https://inc1-upda...|\n",
      "|https://localbizv...|\n",
      "|https://clubemaga...|\n",
      "|https://removable...|\n",
      "+--------------------+\n",
      "only showing top 20 rows\n",
      "\n"
     ]
    }
   ],
   "source": [
    "pshis.show()"
   ]
  },
  {
   "cell_type": "code",
   "execution_count": 5,
   "metadata": {},
   "outputs": [
    {
     "data": {
      "text/plain": [
       "35699"
      ]
     },
     "execution_count": 5,
     "metadata": {},
     "output_type": "execute_result"
    }
   ],
   "source": [
    "pshis.count()"
   ]
  },
  {
   "cell_type": "code",
   "execution_count": 7,
   "metadata": {},
   "outputs": [],
   "source": [
    "#determing components to be removed in the URL\n",
    "add_stopWords = [\"http\", \"https\", \"www\"]\n",
    "\n",
    "#Removing the stop words  from the tokenized data\n",
    "stopwordsRemover = StopWordsRemover(inputCol=\"url\", outputCol=\"Filtered\").setStopWords(add_stopWords)"
   ]
  },
  {
   "cell_type": "code",
   "execution_count": 10,
   "metadata": {},
   "outputs": [],
   "source": [
    "pshis.write.csv('mycsv.csv')"
   ]
  },
  {
   "cell_type": "code",
   "execution_count": null,
   "metadata": {},
   "outputs": [],
   "source": []
  }
 ],
 "metadata": {
  "kernelspec": {
   "display_name": "Python 3",
   "language": "python",
   "name": "python3"
  },
  "language_info": {
   "codemirror_mode": {
    "name": "ipython",
    "version": 3
   },
   "file_extension": ".py",
   "mimetype": "text/x-python",
   "name": "python",
   "nbconvert_exporter": "python",
   "pygments_lexer": "ipython3",
   "version": "3.6.4"
  }
 },
 "nbformat": 4,
 "nbformat_minor": 2
}
