{
 "cells": [
  {
   "cell_type": "code",
   "execution_count": 2,
   "metadata": {},
   "outputs": [
    {
     "name": "stdout",
     "output_type": "stream",
     "text": [
      "+--------+--------------------+--------------------+-------------------+--------+-------------------+------+---------+\n",
      "|phish_id|                 url|    phish_detail_url|    submission_time|verified|  verification_time|online|   target|\n",
      "+--------+--------------------+--------------------+-------------------+--------+-------------------+------+---------+\n",
      "| 5602261|http://mail.super...|http://www.phisht...|2018-04-25 19:40:23|     yes|2018-04-25 19:56:20|   yes|    Other|\n",
      "| 5602179|http://fyrlois.co...|http://www.phisht...|2018-04-25 18:17:25|     yes|2018-04-25 19:45:22|   yes|  Westpac|\n",
      "| 5602152|https://daostack-...|http://www.phisht...|2018-04-25 17:33:09|     yes|2018-04-25 17:37:32|   yes|    Other|\n",
      "| 5602112|http://fjffn-nfnf...|http://www.phisht...|2018-04-25 16:51:03|     yes|2018-04-25 19:02:17|   yes|Microsoft|\n",
      "| 5602111|http://dnccnnfncn...|http://www.phisht...|2018-04-25 16:50:00|     yes|2018-04-25 19:02:17|   yes|Microsoft|\n",
      "+--------+--------------------+--------------------+-------------------+--------+-------------------+------+---------+\n",
      "only showing top 5 rows\n",
      "\n",
      "Total Records 35699\n"
     ]
    }
   ],
   "source": [
    "from pyspark.sql import SparkSession\n",
    "from pyspark.sql.functions import lit\n",
    "import functools \n",
    "\n",
    "if __name__ == \"__main__\":\n",
    "    spark = SparkSession\\\n",
    "        .builder\\\n",
    "        .appName(\"IndexToStringExample\")\\\n",
    "        .getOrCreate()\n",
    "\n",
    "    #read in the phishing URL datasets\n",
    "    raw_data = spark.read.csv(path='phishing_url.csv',\n",
    "                        sep=',',\n",
    "                        encoding='UTF-8',\n",
    "                        comment=None,\n",
    "                        header=True, \n",
    "                        inferSchema=True)\n",
    "\n",
    "    #show the raw_data dataframe\n",
    "    raw_data.show(5)\n",
    "    print(\"Total Records %d\" %raw_data.count())"
   ]
  },
  {
   "cell_type": "code",
   "execution_count": 3,
   "metadata": {},
   "outputs": [
    {
     "name": "stdout",
     "output_type": "stream",
     "text": [
      "+----------------------------------------------------------------------------------------------------+\n",
      "|                                                                                                 url|\n",
      "+----------------------------------------------------------------------------------------------------+\n",
      "|                                         http://mail.superprincessheroes.com/auth/personal/index.htm|\n",
      "|http://fyrlois.com/img/alcance/we/login.php?cmd=login_submit&id=da5f49e66c89133f9b9ed59ee014604bd...|\n",
      "|                                                                           https://daostack-token.io|\n",
      "|http://fjffn-nfnfnfnfmfmff.000webhostapp.com/ufhugrhkjhkjfghkljgklfgkbjgknjkrg/ufhugrhkjhkjfghklj...|\n",
      "|http://dnccnnfncndhfnfjfff.000webhostapp.com/ufhugrhkjhkjfghkljgklfgkbjgknjkrg/ufhugrhkjhkjfghklj...|\n",
      "+----------------------------------------------------------------------------------------------------+\n",
      "only showing top 5 rows\n",
      "\n"
     ]
    }
   ],
   "source": [
    "#Clean the data, only \"url\" column is required\n",
    "#Selecting only url and storing in new dataframe 'data'\n",
    "\n",
    "data = raw_data.select(\"url\")\n",
    "\n",
    "#show content of data\n",
    "data.show(5, truncate=100)"
   ]
  },
  {
   "cell_type": "code",
   "execution_count": 5,
   "metadata": {
    "scrolled": true
   },
   "outputs": [],
   "source": [
    "#save the csv files to output folder\n",
    "data.write.csv(\"ouput\")"
   ]
  },
  {
   "cell_type": "code",
   "execution_count": 6,
   "metadata": {},
   "outputs": [
    {
     "name": "stdout",
     "output_type": "stream",
     "text": [
      "Malicous URLs: 198146\n",
      "+------------+\n",
      "|         url|\n",
      "+------------+\n",
      "|  0b55.top;1|\n",
      "|  0dfd9x.net|\n",
      "|135cross.com|\n",
      "|     1ct.top|\n",
      "|     1gc.top|\n",
      "+------------+\n",
      "only showing top 5 rows\n",
      "\n",
      "Benign URLs: 1000000\n",
      "+-------------+\n",
      "|          url|\n",
      "+-------------+\n",
      "|   google.com|\n",
      "| facebook.com|\n",
      "|  youtube.com|\n",
      "|  twitter.com|\n",
      "|microsoft.com|\n",
      "+-------------+\n",
      "only showing top 5 rows\n",
      "\n"
     ]
    }
   ],
   "source": [
    "#read in the malicious URL datasets\n",
    "malicious_url = spark.read.csv(path='malicious_url.csv',\n",
    "                        sep=',',\n",
    "                        encoding='UTF-8',\n",
    "                        comment=None,\n",
    "                        header=True, \n",
    "                        inferSchema=True)\n",
    "\n",
    "#read in benign URL datasets\n",
    "benign_url_raw = spark.read.csv(path='benign_url.csv',\n",
    "                        sep=',',\n",
    "                        encoding='UTF-8',\n",
    "                        comment=None,\n",
    "                        header=True, \n",
    "                        inferSchema=True)\n",
    "\n",
    "print(\"Malicous URLs: %d\" %malicious_url.count())\n",
    "malicious_url.show(5)\n",
    "\n",
    "#Processing Bening URLS - Exracting only the URL\n",
    "\n",
    "benign_url = benign_url_raw.select(\"Domain\").selectExpr(\"Domain as url\")\n",
    "\n",
    "print(\"Benign URLs: %d\" %benign_url.count())\n",
    "benign_url.show(5)\n",
    "\n"
   ]
  },
  {
   "cell_type": "code",
   "execution_count": 7,
   "metadata": {},
   "outputs": [
    {
     "name": "stdout",
     "output_type": "stream",
     "text": [
      "Malicious URL\n",
      "+------------+-----+\n",
      "|         url|label|\n",
      "+------------+-----+\n",
      "|  0b55.top;1|    1|\n",
      "|  0dfd9x.net|    1|\n",
      "|135cross.com|    1|\n",
      "|     1ct.top|    1|\n",
      "|     1gc.top|    1|\n",
      "+------------+-----+\n",
      "only showing top 5 rows\n",
      "\n",
      "Benign URL\n",
      "+-------------+-----+\n",
      "|          url|lable|\n",
      "+-------------+-----+\n",
      "|   google.com|    0|\n",
      "| facebook.com|    0|\n",
      "|  youtube.com|    0|\n",
      "|  twitter.com|    0|\n",
      "|microsoft.com|    0|\n",
      "+-------------+-----+\n",
      "only showing top 5 rows\n",
      "\n"
     ]
    }
   ],
   "source": [
    "#Labeling both malicous and benign URLS 1 and 0 respectively\n",
    "\n",
    "malicious_url_labelled = malicious_url.withColumn('label', lit(1))\n",
    "benign_url_labelled = benign_url.withColumn('lable', lit(0))\n",
    "\n",
    "#output both lebelled malicious and benign datasets for validation\n",
    "\n",
    "print(\"Malicious URL\")\n",
    "malicious_url_labelled.show(5)\n",
    "\n",
    "print(\"Benign URL\")\n",
    "benign_url_labelled.show(5)"
   ]
  },
  {
   "cell_type": "code",
   "execution_count": 8,
   "metadata": {},
   "outputs": [],
   "source": [
    "final_ouput = malicious_url_labelled.union(benign_url_labelled)"
   ]
  },
  {
   "cell_type": "code",
   "execution_count": 10,
   "metadata": {},
   "outputs": [],
   "source": [
    "final_ouput.write.csv(\"final_output\")"
   ]
  },
  {
   "cell_type": "code",
   "execution_count": null,
   "metadata": {},
   "outputs": [],
   "source": []
  }
 ],
 "metadata": {
  "kernelspec": {
   "display_name": "Python 3",
   "language": "python",
   "name": "python3"
  },
  "language_info": {
   "codemirror_mode": {
    "name": "ipython",
    "version": 3
   },
   "file_extension": ".py",
   "mimetype": "text/x-python",
   "name": "python",
   "nbconvert_exporter": "python",
   "pygments_lexer": "ipython3",
   "version": "3.6.4"
  }
 },
 "nbformat": 4,
 "nbformat_minor": 2
}
