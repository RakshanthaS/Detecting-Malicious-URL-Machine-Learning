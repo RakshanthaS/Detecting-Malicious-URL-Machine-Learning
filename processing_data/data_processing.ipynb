{
 "cells": [
  {
   "cell_type": "code",
   "execution_count": 3,
   "metadata": {},
   "outputs": [
    {
     "name": "stdout",
     "output_type": "stream",
     "text": [
      "+------------------------------+\n",
      "|amazon.co.uk.security-check.ga|\n",
      "+------------------------------+\n",
      "|          autosegurancabras...|\n",
      "|          dadossolicitado-a...|\n",
      "|                hitnrun.com.my|\n",
      "|          maruthorvattomsri...|\n",
      "|          paypalsecure-2016...|\n",
      "+------------------------------+\n",
      "only showing top 5 rows\n",
      "\n",
      "Total Records 20911\n"
     ]
    }
   ],
   "source": [
    "from pyspark.sql import SparkSession\n",
    "from pyspark.sql.functions import lit\n",
    "import functools \n",
    "\n",
    "if __name__ == \"__main__\":\n",
    "    spark = SparkSession\\\n",
    "        .builder\\\n",
    "        .appName(\"Processing Data App\")\\\n",
    "        .getOrCreate()\n",
    "\n",
    "    #read in the phishing URL datasets\n",
    "    raw_data = spark.read.csv(path='spam_url.csv',\n",
    "                        sep=',',\n",
    "                        encoding='UTF-8',\n",
    "                        comment=None,\n",
    "                        header=True, \n",
    "                        inferSchema=True)\n",
    "\n",
    "    #show the raw_data dataframe\n",
    "    raw_data.show(5)\n",
    "    print(\"Total Records %d\" %raw_data.count())"
   ]
  },
  {
   "cell_type": "code",
   "execution_count": 2,
   "metadata": {
    "scrolled": true
   },
   "outputs": [
    {
     "name": "stdout",
     "output_type": "stream",
     "text": [
      "+----------------------------------------------------------------------------------------------------+\n",
      "|                                                                                                 url|\n",
      "+----------------------------------------------------------------------------------------------------+\n",
      "|                                         http://mail.superprincessheroes.com/auth/personal/index.htm|\n",
      "|http://fyrlois.com/img/alcance/we/login.php?cmd=login_submit&id=da5f49e66c89133f9b9ed59ee014604bd...|\n",
      "|                                                                           https://daostack-token.io|\n",
      "|http://fjffn-nfnfnfnfmfmff.000webhostapp.com/ufhugrhkjhkjfghkljgklfgkbjgknjkrg/ufhugrhkjhkjfghklj...|\n",
      "|http://dnccnnfncndhfnfjfff.000webhostapp.com/ufhugrhkjhkjfghkljgklfgkbjgknjkrg/ufhugrhkjhkjfghklj...|\n",
      "+----------------------------------------------------------------------------------------------------+\n",
      "only showing top 5 rows\n",
      "\n"
     ]
    }
   ],
   "source": [
    "#Clean the data, only \"url\" column is required\n",
    "#Selecting only url and storing in new dataframe 'data'\n",
    "\n",
    "data = raw_data.select(\"url\")\n",
    "\n",
    "#show content of data\n",
    "data.show(5, truncate=100)"
   ]
  },
  {
   "cell_type": "code",
   "execution_count": 4,
   "metadata": {
    "scrolled": true
   },
   "outputs": [],
   "source": [
    "#save the csv files to output folder\n",
    "data.write.csv(\"ouput\")"
   ]
  },
  {
   "cell_type": "code",
   "execution_count": 5,
   "metadata": {},
   "outputs": [
    {
     "name": "stdout",
     "output_type": "stream",
     "text": [
      "Phising URLs: 35698\n",
      "+-----------------------------------------------------------+\n",
      "|http://mail.superprincessheroes.com/auth/personal/index.htm|\n",
      "+-----------------------------------------------------------+\n",
      "|                                       http://fyrlois.co...|\n",
      "|                                       https://daostack-...|\n",
      "|                                       http://fjffn-nfnf...|\n",
      "|                                       http://dnccnnfncn...|\n",
      "|                                       http://inbound-al...|\n",
      "+-----------------------------------------------------------+\n",
      "only showing top 5 rows\n",
      "\n",
      "Spam URLs: 20911\n",
      "+------------------------------+\n",
      "|amazon.co.uk.security-check.ga|\n",
      "+------------------------------+\n",
      "|          autosegurancabras...|\n",
      "|          dadossolicitado-a...|\n",
      "|                hitnrun.com.my|\n",
      "|          maruthorvattomsri...|\n",
      "|          paypalsecure-2016...|\n",
      "+------------------------------+\n",
      "only showing top 5 rows\n",
      "\n",
      "Benign URLs: 1000000\n",
      "+-------------+\n",
      "|          url|\n",
      "+-------------+\n",
      "|   google.com|\n",
      "| facebook.com|\n",
      "|  youtube.com|\n",
      "|  twitter.com|\n",
      "|microsoft.com|\n",
      "+-------------+\n",
      "only showing top 5 rows\n",
      "\n"
     ]
    }
   ],
   "source": [
    "#read in the phising URL datasets\n",
    "phising_url = spark.read.csv(path='phis.csv',\n",
    "                        sep=',',\n",
    "                        encoding='UTF-8',\n",
    "                        comment=None,\n",
    "                        header=True, \n",
    "                        inferSchema=True)\n",
    "\n",
    "#read in the Spam URL datasets\n",
    "spam_url = spark.read.csv(path='spam_url.csv',\n",
    "                        sep=',',\n",
    "                        encoding='UTF-8',\n",
    "                        comment=None,\n",
    "                        header=True, \n",
    "                        inferSchema=True)\n",
    "\n",
    "#read in benign URL datasets\n",
    "benign_url_raw = spark.read.csv(path='benign_url.csv',\n",
    "                        sep=',',\n",
    "                        encoding='UTF-8',\n",
    "                        comment=None,\n",
    "                        header=True, \n",
    "                        inferSchema=True)\n",
    "\n",
    "print(\"Phising URLs: %d\" %phising_url.count())\n",
    "phising_url.show(5)\n",
    "\n",
    "print(\"Spam URLs: %d\" %spam_url.count())\n",
    "spam_url.show(5)\n",
    "\n",
    "\n",
    "#Processing Bening URLS - Exracting only the URL\n",
    "\n",
    "benign_url = benign_url_raw.select(\"Domain\").selectExpr(\"Domain as url\")\n",
    "\n",
    "print(\"Benign URLs: %d\" %benign_url.count())\n",
    "benign_url.show(5)\n",
    "\n"
   ]
  },
  {
   "cell_type": "code",
   "execution_count": 6,
   "metadata": {
    "scrolled": true
   },
   "outputs": [
    {
     "name": "stdout",
     "output_type": "stream",
     "text": [
      "Phising URL\n",
      "+-----------------------------------------------------------+\n",
      "|http://mail.superprincessheroes.com/auth/personal/index.htm|\n",
      "+-----------------------------------------------------------+\n",
      "|                                       http://fyrlois.co...|\n",
      "|                                       https://daostack-...|\n",
      "|                                       http://fjffn-nfnf...|\n",
      "|                                       http://dnccnnfncn...|\n",
      "|                                       http://inbound-al...|\n",
      "+-----------------------------------------------------------+\n",
      "only showing top 5 rows\n",
      "\n",
      "SPAM URL\n",
      "+------------------------------+\n",
      "|amazon.co.uk.security-check.ga|\n",
      "+------------------------------+\n",
      "|          autosegurancabras...|\n",
      "|          dadossolicitado-a...|\n",
      "|                hitnrun.com.my|\n",
      "|          maruthorvattomsri...|\n",
      "|          paypalsecure-2016...|\n",
      "+------------------------------+\n",
      "only showing top 5 rows\n",
      "\n",
      "Benign URL\n",
      "+-------------+-----+\n",
      "|          url|lable|\n",
      "+-------------+-----+\n",
      "|   google.com|    0|\n",
      "| facebook.com|    0|\n",
      "|  youtube.com|    0|\n",
      "|  twitter.com|    0|\n",
      "|microsoft.com|    0|\n",
      "+-------------+-----+\n",
      "only showing top 5 rows\n",
      "\n"
     ]
    }
   ],
   "source": [
    "#Labeling both malicous and benign URLS 1 and 0 respectively\n",
    "\n",
    "phishing_url_labelled = phising_url.withColumn('label', lit(1))\n",
    "spam_url_labelled = spam_url.withColumn('label', lit(1))\n",
    "benign_url_labelled = benign_url.withColumn('lable', lit(0))\n",
    "\n",
    "#output both lebelled malicious and benign datasets for validation\n",
    "\n",
    "print(\"Phising URL\")\n",
    "phising_url.show(5)\n",
    "\n",
    "print(\"SPAM URL\")\n",
    "spam_url.show(5)\n",
    "\n",
    "print(\"Benign URL\")\n",
    "benign_url_labelled.show(5)"
   ]
  },
  {
   "cell_type": "code",
   "execution_count": 11,
   "metadata": {},
   "outputs": [],
   "source": [
    "final_ouput = phishing_url_labelled.union(benign_url_labelled)"
   ]
  },
  {
   "cell_type": "code",
   "execution_count": 12,
   "metadata": {},
   "outputs": [],
   "source": [
    "final_ouput.write.csv(\"final_output0000\")"
   ]
  },
  {
   "cell_type": "code",
   "execution_count": 8,
   "metadata": {},
   "outputs": [],
   "source": [
    "spam_url_labelled.write.csv(\"spam_url_out\")"
   ]
  },
  {
   "cell_type": "code",
   "execution_count": null,
   "metadata": {},
   "outputs": [],
   "source": []
  }
 ],
 "metadata": {
  "kernelspec": {
   "display_name": "Python 3",
   "language": "python",
   "name": "python3"
  },
  "language_info": {
   "codemirror_mode": {
    "name": "ipython",
    "version": 3
   },
   "file_extension": ".py",
   "mimetype": "text/x-python",
   "name": "python",
   "nbconvert_exporter": "python",
   "pygments_lexer": "ipython3",
   "version": "3.6.4"
  }
 },
 "nbformat": 4,
 "nbformat_minor": 2
}
